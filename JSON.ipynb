{
 "cells": [
  {
   "cell_type": "markdown",
   "metadata": {
    "id": "Swph3HaTgIl1"
   },
   "source": [
    "# JSON\n",
    "\n",
    "JavaScript Object Notation, o JSON, es otro formato que se puede usar para almacenar y transportar datos.\n",
    "Al igual que HTML y XML, también está diseñado para ser legible por máquina y por humanos. \n",
    "Una gran ventaja de usar el formato JSON es la capacidad de convertir fácilmente JSON a objetos JavaScript y viceversa. JavaScript es un lenguaje de programación interpretado comúnmente admitido en los navegadores web modernos. Esto convierte a JSON en un formato muy popular cuando se transfieren datos entre navegadores web y servidores. Y para pasar datos en aplicaciones web.\n",
    "\n",
    "Los datos JSON se escriben como pares de nombre-valor, con objetos JSON escritos dentro de llaves. Un ejemplo de un objeto JSON, se muestra a continuación:\n",
    "\n",
    "```JSON\n",
    "{\"Nombre\":\"John\"\n",
    " \"Apellido\":\"Doe\"\n",
    " \"Edad\":\"15\"\n",
    " \"Color\": \"rojo\n",
    "}\n",
    "```\n",
    "En este ejemplo, puede ver un objeto JSON de una persona. El objeto persona puede tener varias propiedades escritas como pares nombre-valor. Aquí tenemos a una persona llamada John Doe, que tiene 15 años y su color favorito es el rojo. Los datos JSON también pueden tener matrices de objetos JSON. Las matrices en JSON se escriben entre corchetes. En el ejemplo siguiente se puede ver una lista de objetos JSON con tres personas diferentes y sus propiedades.\n",
    "\n",
    "Aquí un ejemplo de JSON con una lista que contiene como elementos dos dictionarios\n",
    "\n",
    "```JSON\n",
    "{\n",
    "    \"Students\":[\n",
    "    {\"Nombre\":\"Karla\",\n",
    "     \"Apellido\":\"Pam\",\n",
    "     \"Edad\":\"21\",\n",
    "     \"Color\": \"blue\"\n",
    "    },\n",
    "    {\"Nombre\":\"John\",\n",
    "     \"Apellido\":\"Doe\",\n",
    "     \"Edad\":\"15\"\n",
    "     \"Color\": \"rojo,\n",
    "    },\n",
    "   ]\n",
    "}\n",
    "```\n",
    "\n",
    "Aquí un ejemplo de JSON que continene diccionario dentro de diccionarios\n",
    "```JSON\n",
    "{\n",
    "    \"Nombre\":\"Karla\",\n",
    "    \"Apellido\":\"Pam\",\n",
    "    \"fono\":{\n",
    "       \"type\" :\"intl\",\n",
    "       \"numero\": \"+1 738 526 963\"\n",
    "    },\n",
    "    \"e-mail\":{\n",
    "        \"hide\":\"yes\"\n",
    "    }  \n",
    "}\n",
    "```\n",
    "\n",
    "## Analizando JSON"
   ]
  },
  {
   "cell_type": "code",
   "execution_count": null,
   "metadata": {
    "colab": {
     "base_uri": "https://localhost:8080/",
     "height": 136
    },
    "id": "02uh_IuVgIl2",
    "outputId": "e591afe3-785a-4e1a-85f8-58b4f7207ed6"
   },
   "outputs": [
    {
     "name": "stdout",
     "output_type": "stream",
     "text": [
      "número de usuarios: 2\n",
      "Name Chuck\n",
      "Id 001\n",
      "Attribute 2\n",
      "Name Brent\n",
      "Id 009\n",
      "Attribute 7\n"
     ]
    }
   ],
   "source": [
    "import json\n",
    "data = '''\n",
    "[\n",
    "{ \"id\" : \"001\",\n",
    "\"x\" : \"2\",\n",
    "\"name\" : \"Chuck\"\n",
    "} ,\n",
    "{ \"id\" : \"009\",\n",
    "\"x\" : \"7\",\n",
    "\"name\" : \"Brent\"\n",
    "}\n",
    "]\n",
    "'''\n",
    "info = json.loads(data)\n",
    "print('número de usuarios:', len(info))\n",
    "\n",
    "for item in info:\n",
    "  print('Name', item['name'])\n",
    "  print('Id', item['id'])\n",
    "  print('Attribute', item['x'])"
   ]
  },
  {
   "cell_type": "code",
   "execution_count": null,
   "metadata": {
    "colab": {
     "base_uri": "https://localhost:8080/",
     "height": 272
    },
    "id": "pjfAqE70gIl-",
    "outputId": "7b64042d-c98c-4917-c8c7-a6658c2888d6"
   },
   "outputs": [
    {
     "name": "stdout",
     "output_type": "stream",
     "text": [
      "\n",
      "{\n",
      "    \"Nombre\":\"Karla\",\n",
      "    \"Apellido\":\"Pam\",\n",
      "    \"fono\":{\n",
      "       \"type\" :\"intl\",\n",
      "       \"numero\": \"+1 738 526 963\"\n",
      "    },\n",
      "    \"e-mail\":{\n",
      "        \"hide\":\"yes\"\n",
      "    }  \n",
      "}\n",
      "\n",
      "Nombre: Karla\n",
      "Oculto: yes\n"
     ]
    }
   ],
   "source": [
    "import json\n",
    "data = '''\n",
    "{\n",
    "    \"Nombre\":\"Karla\",\n",
    "    \"Apellido\":\"Pam\",\n",
    "    \"fono\":{\n",
    "       \"type\" :\"intl\",\n",
    "       \"numero\": \"+1 738 526 963\"\n",
    "    },\n",
    "    \"e-mail\":{\n",
    "        \"hide\":\"yes\"\n",
    "    }  \n",
    "}\n",
    "'''\n",
    "print(data)\n",
    "info = json.loads(data)\n",
    "print(\"Nombre:\",info[\"Nombre\"])\n",
    "print(\"Oculto:\",info[\"e-mail\"][\"hide\"])\n"
   ]
  }
 ],
 "metadata": {
  "colab": {
   "collapsed_sections": [],
   "name": "JSON.ipynb",
   "provenance": []
  },
  "kernelspec": {
   "display_name": "Python 3",
   "language": "python",
   "name": "python3"
  },
  "language_info": {
   "codemirror_mode": {
    "name": "ipython",
    "version": 3
   },
   "file_extension": ".py",
   "mimetype": "text/x-python",
   "name": "python",
   "nbconvert_exporter": "python",
   "pygments_lexer": "ipython3",
   "version": "3.8.3"
  }
 },
 "nbformat": 4,
 "nbformat_minor": 1
}
