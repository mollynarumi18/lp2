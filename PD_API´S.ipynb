{
  "cells": [
    {
      "cell_type": "markdown",
      "source": [
        "## **LINKS DE APIs**"
      ],
      "metadata": {
        "id": "3qWeZSfu7YVN"
      }
    },
    {
      "cell_type": "markdown",
      "source": [
        "https://rapidapi.com/blog/how-to-use-an-api-with-python/  \n",
        "https://rapidapi.com/search/ipsum  \n",
        "https://platzi.com/blog/12-api-gratis-para-desarrolladores-frontend/  \n",
        "https://pokeapi.co/  \n",
        "https://api.chucknorris.io/  \n",
        "https://rickandmortyapi.com/   \n",
        "https://epic.gsfc.nasa.gov/about/api  \n",
        "https://apispublicas.com/"
      ],
      "metadata": {
        "id": "ppvzfsWWEzJD"
      }
    },
    {
      "cell_type": "markdown",
      "source": [
        "# **Ejemplo 1**"
      ],
      "metadata": {
        "id": "iLPwOzR26382"
      }
    },
    {
      "cell_type": "code",
      "execution_count": null,
      "metadata": {
        "id": "0HdHOn1oCZEB"
      },
      "outputs": [],
      "source": [
        "# @title Consultando acceso\n",
        "\n",
        "import requests\n",
        "response = requests.get('https://google.com/')\n",
        "print(response)"
      ]
    },
    {
      "cell_type": "code",
      "execution_count": null,
      "metadata": {
        "id": "FzWodWcYCZEH"
      },
      "outputs": [],
      "source": [
        "print(response.status_code)"
      ]
    },
    {
      "cell_type": "code",
      "execution_count": null,
      "metadata": {
        "id": "p1-yBPbeCZEK"
      },
      "outputs": [],
      "source": [
        "if response:\n",
        "  print('Request is successful.')\n",
        "else:\n",
        "  print('Request returned an error.')"
      ]
    },
    {
      "cell_type": "code",
      "source": [
        "# @title Accediendo con la api PokeApi a la información de los pokemons\n",
        "\n",
        "#Obtenemos información el api de la página de pokemon\n",
        "import requests\n",
        "API_CALL = \"https://pokeapi.co/api/v2/generation/generation-ii\"\n",
        "requests.get(API_CALL)"
      ],
      "metadata": {
        "id": "or5v_AGqD8H5"
      },
      "execution_count": null,
      "outputs": []
    },
    {
      "cell_type": "code",
      "source": [
        "#Json de la api de todos los Pokémon\n",
        "RES = requests.get(API_CALL)\n",
        "RES.json()"
      ],
      "metadata": {
        "id": "QmVPpv9ND-10"
      },
      "execution_count": null,
      "outputs": []
    },
    {
      "cell_type": "code",
      "source": [
        "# Json de las Especies de Pokémon\n",
        "Especies = RES.json()\n",
        "Especies['pokemon_species']"
      ],
      "metadata": {
        "id": "d1qC-DSCEBkV"
      },
      "execution_count": null,
      "outputs": []
    },
    {
      "cell_type": "code",
      "source": [
        "# @title Accediendo con la api RapidApi a la información de los pokemons como texto\n",
        "\n",
        "import requests\n",
        "\n",
        "url = \"https://pokemon-go1.p.rapidapi.com/type_effectiveness.json\"\n",
        "\n",
        "headers = {\n",
        "    'x-rapidapi-host': \"pokemon-go1.p.rapidapi.com\",\n",
        "    'x-rapidapi-key': \"ebb8df31b6msh45d096f56e9a9a4p136915jsn102379671a00\"\n",
        "    }\n",
        "\n",
        "response = requests.request(\"GET\", url, headers=headers)\n",
        "\n",
        "print(response.text)"
      ],
      "metadata": {
        "id": "8Qk0QfLSpmI7"
      },
      "execution_count": null,
      "outputs": []
    },
    {
      "cell_type": "code",
      "execution_count": null,
      "metadata": {
        "id": "m91gsdX0CZEO"
      },
      "outputs": [],
      "source": [
        "response = requests.get(f\"https://pokemon-go1.p.rapidapi.com/type_effectiveness.json\",\n",
        "headers = {\n",
        "    'x-rapidapi-host': \"pokemon-go1.p.rapidapi.com\",\n",
        "    'x-rapidapi-key': \"ebb8df31b6msh45d096f56e9a9a4p136915jsn102379671a00\"\n",
        "    }\n",
        ")\n",
        "print(response.text)"
      ]
    },
    {
      "cell_type": "code",
      "execution_count": null,
      "metadata": {
        "id": "sBQI4ea2CZEP"
      },
      "outputs": [],
      "source": [
        "# @title Accediendo con la api rapidapi a la información de los pokemons como JSON\n",
        "\n",
        "import requests\n",
        "response = requests.get(f\"https://pokemon-go1.p.rapidapi.com/type_effectiveness.json\",\n",
        "headers = {\n",
        "    'x-rapidapi-host': \"pokemon-go1.p.rapidapi.com\",\n",
        "    'x-rapidapi-key': \"ebb8df31b6msh45d096f56e9a9a4p136915jsn102379671a00\"\n",
        "    }\n",
        ")\n",
        "print (type(response.json()))\n",
        "print(response.json())"
      ]
    },
    {
      "cell_type": "markdown",
      "source": [
        "# **Ejemplo 2**"
      ],
      "metadata": {
        "id": "5JjcOkOs6xuL"
      }
    },
    {
      "cell_type": "code",
      "execution_count": null,
      "metadata": {
        "id": "A5GvGBp_CZES"
      },
      "outputs": [],
      "source": [
        "import requests\n",
        "params = {\"PolarIce\": -5, \"format\": \"json\"}\n",
        "response = requests.get(f\"https://melted-polar-ice-cap.p.rapidapi.com/api/arctic-api\", params=params,\n",
        " headers={\n",
        "   \"X-RapidAPI-Host\": \"melted-polar-ice-cap.p.rapidapi.com\",\n",
        "   \"X-RapidAPI-Key\": \"9d5bc2ad0bmshbaf76d984c0fe86p1cf35bjsn0566bab4ac6d\"\n",
        " }\n",
        ")\n",
        "print (type(response.json()))\n",
        "print(response.json())"
      ]
    },
    {
      "cell_type": "code",
      "execution_count": null,
      "metadata": {
        "id": "E56O86LmCZEU"
      },
      "outputs": [],
      "source": [
        "import sys\n",
        "import json\n",
        "import urllib.request\n",
        "\n",
        "data= urllib.request.urlopen(\"https://epic.gsfc.nasa.gov/api/natural\")\n",
        "data= json.loads(data.read())\n",
        "print(type(data))\n",
        "print(data)\n",
        "\n"
      ]
    },
    {
      "cell_type": "code",
      "execution_count": null,
      "metadata": {
        "id": "cO70wX91CZEX"
      },
      "outputs": [],
      "source": [
        "import sys\n",
        "import json\n",
        "import urllib.request\n",
        "\n",
        "data= urllib.request.urlopen(\"https://epic.gsfc.nasa.gov/api/enhanced/date/2015-10-31\")\n",
        "data= json.loads(data.read())\n",
        "for i in data:\n",
        "    print(f\"https://epic.gsfc.nasa.gov/archive/natural/2015/10/31/png/epic_1b_20151031074844.png\")\n"
      ]
    },
    {
      "cell_type": "code",
      "source": [
        "import json\n",
        "import urllib.request\n",
        "\n",
        "# URL de la API\n",
        "url = \"https://epic.gsfc.nasa.gov/api/enhanced/date/2015-10-31\"\n",
        "\n",
        "# Obtener los datos de la API\n",
        "response = urllib.request.urlopen(url)\n",
        "data = json.loads(response.read())\n",
        "\n",
        "# Iterar sobre cada imagen en los datos\n",
        "for item in data:\n",
        "    image_name = item['image']\n",
        "    date = item['date'].split(' ')[0]  # Obtener solo la parte de la fecha (sin la hora)\n",
        "    year, month, day = date.split('-')  # Separar la fecha en año, mes y día\n",
        "    # Construir la URL de la imagen\n",
        "    image_url = f\"https://epic.gsfc.nasa.gov/archive/natural/{year}/{month}/{day}/png/{image_name}.png\"\n",
        "    print(image_url)\n"
      ],
      "metadata": {
        "id": "fywauyqp9MZz"
      },
      "execution_count": null,
      "outputs": []
    },
    {
      "cell_type": "markdown",
      "source": [
        "# **<a href=\"https://rapidapi.com/din-dins-club-limited-din-dins-club-limited-default/api/viva-city-documentation\">Viva City Documentation</a>**"
      ],
      "metadata": {
        "id": "N8VQbdUoJB7_"
      }
    },
    {
      "cell_type": "code",
      "source": [
        "import requests  # importar el paquete requests para pedir el requerimiento\n",
        "url = \"https://viva-city-documentation.p.rapidapi.com/venue-i18n/venues/56c467cb7b0d464811a42017/details\" # url disponible para la extracción\n",
        "querystring = {\"lang\":\"zh-hans\"}\n",
        "headers = {\n",
        "    'x-rapidapi-key': \"8025fa1aa9mshfc299430ca770b4p19964cjsn740cb4bef7bf\",            # la llave y el hot deben estar disponibles\n",
        "    'x-rapidapi-host': \"viva-city-documentation.p.rapidapi.com\"\n",
        "    }\n",
        "\n",
        "response = requests.request(\"GET\", url, headers=headers, params=querystring)    # se almacena en la variable responde la respuesta del requerimiento\n",
        "print (response) # respuesta exitosa: 200\n",
        "print (type(response.json()))  # se convierte a formato json el contenido solicitado y se pregunta su tipo\n",
        "print('para visualizar los datos del requerimiento de la segunda api correr el siguiente código :print(response.json())'  )\n"
      ],
      "metadata": {
        "id": "mkV1weF6JPZV"
      },
      "execution_count": null,
      "outputs": []
    },
    {
      "cell_type": "code",
      "source": [
        "print(response.json())"
      ],
      "metadata": {
        "id": "WjI_5fScJU7H"
      },
      "execution_count": null,
      "outputs": []
    },
    {
      "cell_type": "markdown",
      "source": [
        "## **LinkedIn Data Scraper**"
      ],
      "metadata": {
        "id": "09Hl2HrRbLzk"
      }
    },
    {
      "cell_type": "code",
      "source": [
        "import requests\n",
        "\n",
        "url = \"https://linkedin-data-scraper.p.rapidapi.com/person\"\n",
        "\n",
        "payload = { \"link\": \"http://www.linkedin.com/in/ingmar-klein/\" }\n",
        "headers = {\n",
        "\t\"x-rapidapi-key\": \"9d5bc2ad0bmshbaf76d984c0fe86p1cf35bjsn0566bab4ac6d\",\n",
        "\t\"x-rapidapi-host\": \"linkedin-data-scraper.p.rapidapi.com\",\n",
        "\t\"Content-Type\": \"application/json\"\n",
        "}\n",
        "\n",
        "response = requests.post(url, json=payload, headers=headers)\n",
        "\n",
        "print(response.json())"
      ],
      "metadata": {
        "id": "PwF_rCQIXXqo"
      },
      "execution_count": null,
      "outputs": []
    },
    {
      "cell_type": "markdown",
      "source": [
        "# **API Openlibrary**\n",
        "\n",
        "EXTRACCIÓN DE LIBROS DEL AUTOR ADRIAN PAENZA CON LA API DE OPEN LIBRARY (api pública)\n"
      ],
      "metadata": {
        "id": "7ZYO68uHIUEw"
      }
    },
    {
      "cell_type": "markdown",
      "source": [
        "- **Forma 1**"
      ],
      "metadata": {
        "id": "MU5v6C4QxZMI"
      }
    },
    {
      "cell_type": "code",
      "source": [
        "import requests\n",
        "\n",
        "# Autor a buscar\n",
        "author = 'Paenza'\n",
        "\n",
        "# URL de la API\n",
        "url = f'https://openlibrary.org/search.json?author={author}'\n",
        "\n",
        "# Realizar la solicitud GET a la API\n",
        "response = requests.get(url)\n",
        "\n",
        "# Verificar que la solicitud fue exitosa\n",
        "if response.status_code == 200:\n",
        "    # Parsear la respuesta JSON\n",
        "    data = response.json()\n",
        "    libros = data.get('docs', [])\n",
        "\n",
        "    # Extraer la información de cada libro\n",
        "    for libro in libros:\n",
        "        titulo = libro.get('title', 'Título no disponible')\n",
        "        autores = libro.get('author_name', ['Autor no disponible'])\n",
        "        paginas = libro.get('number_of_pages_median', 'Número de páginas no disponible')\n",
        "        print(f'Título: {titulo}, Autores: {\", \".join(autores)}, Páginas: {paginas}')\n",
        "else:\n",
        "    print(f'Error al realizar la solicitud: {response.status_code}')\n",
        "\n"
      ],
      "metadata": {
        "id": "JTXwviFzb5u2"
      },
      "execution_count": null,
      "outputs": []
    },
    {
      "cell_type": "code",
      "source": [
        "# @title Extracción de información como Data Frame con Pandas\n",
        "import pandas as pd\n",
        "from urllib.request import urlopen\n",
        "import json\n",
        "\n",
        "# Autor a buscar\n",
        "author = 'Paenza'\n",
        "\n",
        "# URL de la API\n",
        "url = f'https://openlibrary.org/search.json?author={author}'\n",
        "\n",
        "# Realizar la solicitud a la API\n",
        "uclient = urlopen(url)\n",
        "responsehtml = uclient.read()\n",
        "uclient.close()\n",
        "\n",
        "# Cargar la respuesta JSON\n",
        "info = json.loads(responsehtml.decode())\n",
        "\n",
        "# Verificar que se encontraron libros\n",
        "if 'docs' in info:\n",
        "    libros = info['docs']\n",
        "\n",
        "    # Extraer información relevante y crear una lista de diccionarios\n",
        "    libros_info = []\n",
        "    for libro in libros:\n",
        "        titulo = libro.get('title', 'Título no disponible')\n",
        "        autores = libro.get('author_name', ['Autor no disponible'])\n",
        "        paginas = libro.get('number_of_pages_median', 'Número de páginas no disponible')\n",
        "        libros_info.append({\n",
        "            'Título': titulo,\n",
        "            'Autores': ', '.join(autores),\n",
        "            'Páginas': paginas\n",
        "        })\n",
        "\n",
        "    # Crear un DataFrame con la información de los libros\n",
        "    df_paenza = pd.DataFrame(libros_info)\n",
        "\n",
        "    # Mostrar el DataFrame\n",
        "    print(df_paenza)\n",
        "else:\n",
        "    print('No se encontraron libros para el autor especificado.')\n"
      ],
      "metadata": {
        "id": "g8Du84XUpTy-"
      },
      "execution_count": null,
      "outputs": []
    },
    {
      "cell_type": "code",
      "source": [
        "# @title Extracción de información como Data Frame con Pandas\n",
        "import pandas as pd\n",
        "from urllib.request import urlopen\n",
        "import json\n",
        "\n",
        "# Autor a buscar\n",
        "author = 'Paenza'\n",
        "\n",
        "# URL de la API\n",
        "url = f'https://openlibrary.org/search.json?author={author}'\n",
        "\n",
        "uclient=urlopen(url)\n",
        "responsehtml=uclient.read()\n",
        "uclient.close()\n",
        "info=json.loads(responsehtml.decode()) #la respuesta se da en una lista de diccionarios, cada una para cada libro\n",
        "df=pd.DataFrame(info) #creando un df para la info de todos los libros\n",
        "print(list(df.columns)) #viendo las cabeceras de las columnas para filtrar solo algunas\n",
        "df.rename(columns={'old_name_1': 'Título', 'old_name_2': 'Autores', 'old_name_3': 'Páginas'}, inplace=True)\n",
        "df_paenza=df_paenza[['Título', 'Autores', 'Páginas']]\n",
        "df_paenza"
      ],
      "metadata": {
        "id": "fQEOhXGnpoup"
      },
      "execution_count": null,
      "outputs": []
    },
    {
      "cell_type": "code",
      "source": [
        "# @title Con DataFrame df_paenza: N° libro paginas\n",
        "\n",
        "df_paenza[df_paenza['Páginas'] != 'Número de páginas no disponible']['Páginas']\n"
      ],
      "metadata": {
        "id": "GT6YV-MT0YVc"
      },
      "execution_count": null,
      "outputs": []
    },
    {
      "source": [
        "# @title Gráfico de barra de Títulos de los libros de Paenza\n",
        "\n",
        "from matplotlib import pyplot as plt\n",
        "import seaborn as sns\n",
        "df_paenza.groupby('Título').size().plot(kind='barh', color=sns.palettes.mpl_palette('Dark2'))\n",
        "plt.gca().spines[['top', 'right',]].set_visible(False)"
      ],
      "cell_type": "code",
      "execution_count": null,
      "outputs": [
        {
          "output_type": "display_data",
          "data": {
            "text/plain": [
              "<Figure size 640x480 with 1 Axes>"
            ],
            "image/png": "[encoded data removed]"
          },
          "metadata": {}
        }
      ],
      "metadata": {
        "colab": {
          "base_uri": "https://localhost:8080/",
          "height": 368
        },
        "id": "Mr6L7D_Gx82S",
        "outputId": "e00c9db4-976f-44d9-f791-b9130bc230ea"
      }
    },
    {
      "cell_type": "code",
      "source": [
        "# @title Extracción de información como Diccionario\n",
        "url = f'https://openlibrary.org/search.json?author={author}'\n",
        "uclient = urlopen(url)\n",
        "responsehtml = uclient.read()\n",
        "uclient.close()\n",
        "info = json.loads(responsehtml.decode())\n",
        "\n",
        "# Check if there are any books found\n",
        "if len(info) > 0:\n",
        "    dic_libro = info['docs'][0]\n",
        "    # Print the information for the first book\n",
        "   #print(dic_libro)\n",
        "    print(dic_libro[\"author_key\"])\n",
        "    print(dic_libro[\"title\"])\n",
        "    print(dic_libro['author_name'])\n",
        "    print(dic_libro['edition_count'])\n",
        "    print(dic_libro['edition_key'])\n",
        "    print(dic_libro['first_publish_year'])\n",
        "    print(dic_libro['format'])\n",
        "    print(dic_libro['number_of_pages_median'])\n",
        "    print(dic_libro['publish_date'])\n",
        "    print(dic_libro['publisher'])\n",
        "    print(dic_libro['isbn'])\n",
        "    print(dic_libro['key'])\n",
        "else:\n",
        "    print(\"No books found for the author.\")"
      ],
      "metadata": {
        "colab": {
          "base_uri": "https://localhost:8080/"
        },
        "id": "3WGI4HO7sogY",
        "outputId": "dd09882e-6a2b-4815-aef6-5ad5e3c46a21"
      },
      "execution_count": null,
      "outputs": [
        {
          "output_type": "stream",
          "name": "stdout",
          "text": [
            "['OL6590350A']\n",
            "Matemagia\n",
            "['Adrián Paenza']\n",
            "3\n",
            "['OL47625546M', 'OL47625545M', 'OL47625547M']\n",
            "2015\n",
            "['paperback']\n",
            "384\n",
            "['Oct 08, 2015']\n",
            "['Debate', 'DEBATE']\n",
            "['8499924832', '9788499924830']\n",
            "/works/OL35227198W\n"
          ]
        }
      ]
    }
  ],
  "metadata": {
    "kernelspec": {
      "display_name": "Python 3",
      "language": "python",
      "name": "python3"
    },
    "language_info": {
      "codemirror_mode": {
        "name": "ipython",
        "version": 3
      },
      "file_extension": ".py",
      "mimetype": "text/x-python",
      "name": "python",
      "nbconvert_exporter": "python",
      "pygments_lexer": "ipython3",
      "version": "3.7.6"
    },
    "colab": {
      "provenance": []
    }
  },
  "nbformat": 4,
  "nbformat_minor": 0
}