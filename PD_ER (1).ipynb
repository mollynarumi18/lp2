{
 "cells": [
  {
   "cell_type": "markdown",
   "metadata": {},
   "source": [
    "# Práctica  dirigida: expresiones regulares (regex)\n",
    "\n",
    "Descargar el archivo *dr_chuck.txt* \n",
    "1. Buscar líneas en el archivo que contiene 'href=https:' usando métodos o funciones de caracteres.\n",
    "2. Buscar líneas en el archivo que empiecen con 't', seguido por dos caracteres cualquiera y luego seguidos por 's:'\n",
    "3. Buscar líneas en el archivo que tengan el signo @.\n",
    "4. Contar el número de espacios en blanco por línea en el archivo"
   ]
  },
  {
   "cell_type": "code",
   "execution_count": 1,
   "metadata": {},
   "outputs": [
    {
     "name": "stdout",
     "output_type": "stream",
     "text": [
      "href=https://www.learnerprivacy.org>Podcast\n",
      "href=https://www.dr-chuck.com/csev-blog/>Blog\n",
      "href=https://www.twitter.com/drchuck/ target=_blank>@drchuck Twitter\n",
      "href=https://www.vimeo.com/17207620 target=\"_blank\"\n"
     ]
    }
   ],
   "source": [
    "##1\n",
    "texto = open(\"dr_chuck.txt\")\n",
    "for linea in texto:\n",
    "    linea = linea.rstrip()\n",
    "    if linea.find('href=https:')>= 0:\n",
    "        print(linea)\n"
   ]
  },
  {
   "cell_type": "code",
   "execution_count": 8,
   "metadata": {},
   "outputs": [
    {
     "name": "stdout",
     "output_type": "stream",
     "text": [
      "text-align: center;\n",
      "text-align: center;\n",
      "td align=center valign=top width=180\n",
      "target=\"_blank\" href=\"https://amzn.to/1K5Q81K\">Amazon Author Page\n",
      "target=\"_blank\" href=\"https://www.coursera.org/instructor/drchuck\">My Coursera Page\n",
      "title=\"Charles R. Severance\"\n",
      "td valign=top align=center width=180\n",
      "type=\"text/javascript\" src=\"//translate.google.com/translate_a/element.js?cb=googleTranslateElementInit\"></script>\n"
     ]
    }
   ],
   "source": [
    "##2\n",
    "import re\n",
    "texto = open(\"dr_chuck.txt\")\n",
    "for linea in texto:\n",
    "    linea = linea.rstrip()\n",
    "    if re.search('^t',linea):\n",
    "        print(linea)"
   ]
  },
  {
   "cell_type": "code",
   "execution_count": 14,
   "metadata": {},
   "outputs": [
    {
     "name": "stdout",
     "output_type": "stream",
     "text": [
      "['text-align:']\n",
      "['text-align:']\n",
      "['td']\n",
      "['target=\"_blank\"']\n",
      "['target=\"_blank\"']\n",
      "['title=\"Charles']\n",
      "['td']\n",
      "['type=\"text/javascript\"']\n"
     ]
    }
   ],
   "source": [
    "##\n",
    "import re\n",
    "texto = open(\"dr_chuck.txt\")\n",
    "for linea in texto:\n",
    "    linea = linea.rstrip()\n",
    "    x = re.findall('^t\\S+', linea)\n",
    "    if len(x) > 0:\n",
    "        #print(linea)\n",
    "        print(x)\n"
   ]
  },
  {
   "cell_type": "code",
   "execution_count": 16,
   "metadata": {},
   "outputs": [
    {
     "name": "stdout",
     "output_type": "stream",
     "text": [
      "href=\"https://www.dr-chuck.com/csev-blog/index.rdf\"\n",
      "href=\"https://www.dr-chuck.com/csev-blog/atom.xml\"\n",
      "href=\"https://www.learnerprivacy.org/\"\n",
      "href=\"https://www.si.umich.edu/\"\n",
      "href=\"https://www.ratemyprofessors.com/ShowRatings.jsp?tid=1159280\" target=\"_blank\"\n",
      "href=https://www.learnerprivacy.org>Podcast\n",
      "href=https://www.dr-chuck.com/csev-blog/>Blog\n",
      "href=https://www.twitter.com/drchuck/ target=_blank>@drchuck Twitter\n",
      "href=\"https://www.dr-chuck.com/dr-chuck/resume/speaking.htm\" target=_blank>Keynote Speaker\n",
      "href=\"https://www.slideshare.net/csev\"\n",
      "target=\"_blank\" href=\"https://amzn.to/1K5Q81K\">Amazon Author Page\n",
      "target=\"_blank\" href=\"https://www.coursera.org/instructor/drchuck\">My Coursera Page\n",
      "href=\"https://itunes.apple.com/us/podcast/computing-conversations/id731495760\"\n",
      "href=\"https://www.youtube.com/playlist?list=PLHJB2bhmgB7dFuY7HmrXLj5BmHGKTD-3R\"\n",
      "href=\"https://developers.imsglobal.org/\"\n",
      "href=\"https://www.youtube.com/user/csev\"\n",
      "href=\"https://vimeo.com/drchuck/videos\"\n",
      "href=\"https://backpack.openbadges.org/share/4f76699ddb399d162a00b89a452074b3/\"\n",
      "href=\"https://www.linkedin.com/in/charlesseverance/\"\n",
      "img src=\"https://www.linkedin.com/img/webpromo/btn_viewmy_120x33.png\"\n",
      "href=\"https://www.researchgate.net/profile/Charles_Severance/\n",
      "img src=\"https://www.researchgate.net/images/public/profile_share_badge.png\" alt=\"Charles R. Severance\" /\n",
      "href=\"https://www.learnerprivacy.org/\" target=\"_blank\">My LearnerPrivacy.org podcast\n",
      "href=\"https://www.py4e.com/\" target=\"_blank\">Python for Everybody\n",
      "href=\"https://www.dj4e.com/\" target=\"_blank\">Django for Everybody\n",
      "href=\"https://www.wa4e.com/\" target=\"_blank\">Web Applications for Everybody\n",
      "href=\"https://www.coursera.org/course/insidetheinternet\" target=\"_blank\">Internet History, Technnology and Security\n",
      "href=\"https://www.sakaiproject.org/\" target=\"_blank\">The Sakai Collaboration\n",
      "href=\"https://www.tsugi.org/\" target=\"_blank\">Tsugi: A framework for learning tools\n",
      "href=\"https://developers.imsglobal.org/\" target=\"_blank\">IMS Learning Tools\n",
      "href=https://www.vimeo.com/17207620 target=\"_blank\"\n",
      "href=\"https://www.youtube.com/watch?v=BVKpW02hsrU\" target=\"_blank\"\n",
      "href=\"https://www.youtube.com/watch?v=sa2WsgCvn7c\" target=\"_blank\"\n",
      "href=\"https://www.vimeo.com/17213019\" target=\"_blank\"\n",
      "href=\"https://www.youtube.com/watch?v=FJ078sO35M0\" target=\"_blank\"\n",
      "class=\"twitter-timeline\" href=\"https://twitter.com/drchuck\" data-widget-id=\"282172185219567616\">Tweets by @drchuck</a>\n",
      "    ga.src = ('https:' == document.location.protocol ? 'https://ssl' : 'http://www') + '.google-analytics.com/ga.js';\n"
     ]
    }
   ],
   "source": [
    "##Buscar líneas en el archivo que tenga 't' seguido por dos caracteres cualquiera y \n",
    "#luego seguidos por 's:'\n",
    "import re\n",
    "texto = open(\"dr_chuck.txt\")\n",
    "for linea in texto:\n",
    "    linea = linea.rstrip()\n",
    "    if re.search('t..s:', linea):\n",
    "        print(linea)"
   ]
  },
  {
   "cell_type": "code",
   "execution_count": 22,
   "metadata": {},
   "outputs": [
    {
     "name": "stdout",
     "output_type": "stream",
     "text": [
      "href=https://www.twitter.com/drchuck/ target=_blank>@drchuck Twitter\n",
      "['href=https://www.twitter.com/drchuck/ target=_blank>@drchuck Twitter']\n",
      "class=\"twitter-timeline\" href=\"https://twitter.com/drchuck\" data-widget-id=\"282172185219567616\">Tweets by @drchuck</a>\n",
      "['class=\"twitter-timeline\" href=\"https://twitter.com/drchuck\" data-widget-id=\"282172185219567616\">Tweets by @drchuck</a>']\n"
     ]
    }
   ],
   "source": [
    "#3\n",
    "import re\n",
    "texto = open(\"dr_chuck.txt\")\n",
    "for linea in texto:\n",
    "    linea = linea.rstrip()\n",
    "    x = re.findall('.+@.+', linea)\n",
    "    if len(x) > 0:\n",
    "        print(linea)\n",
    "        print(x)"
   ]
  },
  {
   "cell_type": "code",
   "execution_count": 24,
   "metadata": {},
   "outputs": [
    {
     "name": "stdout",
     "output_type": "stream",
     "text": [
      "364\n"
     ]
    }
   ],
   "source": [
    "#4\n",
    "text = open(\"dr_chuck.txt\")\n",
    "i=0\n",
    "for linea in text:\n",
    "    linea = linea.rstrip()\n",
    "    x= re.findall(' ',linea)\n",
    "    if len(x) > 0:\n",
    "        i += len(x)  ##i = i + len(x)\n",
    "        #print(x) \n",
    "print(i)\n",
    "text.close()"
   ]
  },
  {
   "cell_type": "code",
   "execution_count": 30,
   "metadata": {},
   "outputs": [
    {
     "name": "stdout",
     "output_type": "stream",
     "text": [
      "Dr. Charles R. Severance Home Page\n",
      "content=\"WQuA2ZPREiCyTlgNh/fv0jvzKJxrpzlagjiPaakSNH0=\"\n",
      "body { background: black; font-family: Arial,Helvetica,Verdana,Sans-Serif; color: white;}\n",
      "body table { font-size: 11pt; }\n",
      "a:link, a:visited, a:active { color: gray; text-decoration: none; font-weight: bold}\n",
      "a:hover { color:orange }\n",
      "strong {color: orange; }\n",
      "em {color: yellow; font-style: normal;}\n",
      "#twitter_div {\n",
      "color: yellow;\n",
      "text-align: center;\n",
      "}\n",
      "#twitter_div ul {\n",
      "display: inline;\n",
      "fornt-size: 75%;\n",
      "margin:0px 0px 0px 0px;\n",
      "padding:0px 0px 0px 0px;\n",
      "list-style-type: none;\n",
      "}\n",
      "#twitter_div p {\n",
      "margin:0px 0px 0px 0px;\n",
      "text-align: center;\n",
      "}\n",
      "link rel=\"alternate\" type=\"application/rss+xml\" title=\"RSS\"\n",
      "href=\"https://www.dr-chuck.com/csev-blog/index.rdf\"\n",
      "link rel=\"alternate\" type=\"application/atom+xml\" title=\"Atom\"\n",
      "href=\"https://www.dr-chuck.com/csev-blog/atom.xml\"\n",
      "name=\"google-translate-customization\"\n",
      "content=\"502d2c1a267d1206-8efe060c714e194c-g94a06c6c571083ae-11\"\n",
      "td align=center valign=top width=180\n",
      "href=\"https://www.learnerprivacy.org/\"\n",
      "img align=\"center\" src=\"Chuck_Square_B&W.jpg\" width=\"160\" style=\"border: white 2px solid;\" alt=\"Photo Credit: Brent Severance\"\n",
      "href=\"https://www.si.umich.edu/\"\n",
      "href=\"https://www.ratemyprofessors.com/ShowRatings.jsp?tid=1159280\" target=\"_blank\"\n",
      "img src=\"/images/rate-my-professor.jpg\" width=\"140\" alt=\"Rate This Professor\"\n",
      "href=https://www.learnerprivacy.org>Podcast\n",
      "href=https://www.dr-chuck.com/csev-blog/>Blog\n",
      "href=https://www.twitter.com/drchuck/ target=_blank>@drchuck Twitter\n",
      "href=\"https://www.dr-chuck.com/dr-chuck/resume/speaking.htm\" target=_blank>Keynote Speaker\n",
      "href=\"https://www.slideshare.net/csev\"\n",
      "href=/dr-chuck/resume/index.htm target=_blank>Resume and Bio\n",
      "target=\"_blank\" href=\"https://amzn.to/1K5Q81K\">Amazon Author Page\n",
      "target=\"_blank\" href=\"https://www.coursera.org/instructor/drchuck\">My Coursera Page\n",
      "href=\"http://afs.dr-chuck.com/papers/\"\n",
      "href=\"https://itunes.apple.com/us/podcast/computing-conversations/id731495760\"\n",
      "href=\"https://www.youtube.com/playlist?list=PLHJB2bhmgB7dFuY7HmrXLj5BmHGKTD-3R\"\n",
      "href=\"https://developers.imsglobal.org/\"\n",
      "href=\"https://www.youtube.com/user/csev\"\n",
      "href=\"https://vimeo.com/drchuck/videos\"\n",
      "href=\"https://backpack.openbadges.org/share/4f76699ddb399d162a00b89a452074b3/\"\n",
      "href=\"https://www.linkedin.com/in/charlesseverance/\"\n",
      "img src=\"https://www.linkedin.com/img/webpromo/btn_viewmy_120x33.png\"\n",
      "    width=\"120\" height=\"33\" border=\"0\" alt=\"View Chuck Severance's profile on LinkedIn\"\n",
      "title=\"Charles R. Severance\"\n",
      "href=\"https://www.researchgate.net/profile/Charles_Severance/\n",
      "img src=\"https://www.researchgate.net/images/public/profile_share_badge.png\" alt=\"Charles R. Severance\" /\n",
      "valign=top\n",
      "div style=\"float: right\"\n",
      "script data-gittip-username=\"drchuck\"\n",
      "        data-gittip-widget=\"button\"\n",
      "        src=\"//gttp.co/v1.js\"\n",
      "New:\n",
      "href=\"https://www.learnerprivacy.org/\" target=\"_blank\">My LearnerPrivacy.org podcast\n",
      "New:\n",
      "href=\"/office\" target=\"_blank\">MOOC Office Hours Around the World\n",
      "Free Courses / Educational Material:\n",
      "href=\"https://www.py4e.com/\" target=\"_blank\">Python for Everybody\n",
      "href=\"https://www.dj4e.com/\" target=\"_blank\">Django for Everybody\n",
      "href=\"https://www.wa4e.com/\" target=\"_blank\">Web Applications for Everybody\n",
      "href=\"https://www.coursera.org/course/insidetheinternet\" target=\"_blank\">Internet History, Technnology and Security\n",
      "Software\n",
      "href=\"https://www.sakaiproject.org/\" target=\"_blank\">The Sakai Collaboration\n",
      "and Learning Environment\n",
      "href=\"https://www.tsugi.org/\" target=\"_blank\">Tsugi: A framework for learning tools\n",
      "href=\"https://developers.imsglobal.org/\" target=\"_blank\">IMS Learning Tools\n",
      "Interoperability\n",
      "Books\n",
      "href=\"http://www.py4e.com/book\" /target=\"_blank\">Python For Everybody: Exploring Data in Python 3\n",
      "href=\"/sakai-book\">Sakai: Building an Open Source Community (2011, 2014)\n",
      "href=\"http://www.amazon.com/gp/product/1624311393/ref=as_li_ss_tl?ie=UTF8&camp=1789&creative=390957&creativeASIN=1624311393&linkCode=as2&tag=drchu02-20\" target=\"_blank\">Raspberry Pi (21st Century Skills Innovation Library) (2013)\n",
      "href=\"http://www.amazon.com/gp/product/059680069X/ref=as_li_ss_tl?ie=UTF8&camp=1789&creative=390957&creativeASIN=059680069X&linkCode=as2&tag=drchu02-20\" target=\"_blank\">Using Google App Engine (O'Reilly 2009)\n",
      "href=\"http://www.amazon.com/Performance-Computing-Architectures-Optimization-Benchmarks/dp/156592312X/\" target=\"_blank\">High Performance Computing</a> (<a href=\"http://oreilly.com/catalog/9781565923126/\" target=\"_blank\">O'Reilly 1998,  href=\"http://cnx.org/content/col11136/latest/\" target=_blank>Connexions 2010)\n",
      "Web/Multimedia sites\n",
      "href=\"http://www.youtube.com/playlist?list=PLHJB2bhmgB7dFuY7HmrXLj5BmHGKTD-3R\" target=\"_blank\">\n",
      "IEEE Computer - Computing Conversations Interviews\n",
      "(2011-2016)\n",
      "href=https://www.vimeo.com/17207620 target=\"_blank\"\n",
      "Dr. Chuck sings the blues  (2008)\n",
      "<br> &nbsp;\n",
      "href=\"https://www.youtube.com/watch?v=BVKpW02hsrU\" target=\"_blank\"\n",
      "Dr. Chuck goes motocross racing (2007)\n",
      "href=\"https://www.youtube.com/watch?v=sa2WsgCvn7c\" target=\"_blank\"\n",
      "A Film About Brent and His ATV\n",
      " (2005)\n",
      "href=\"https://www.vimeo.com/17213019\" target=\"_blank\"\n",
      "Audition Tape</a> (2003) for TechTV which was\n",
      "rejected :(.\n",
      "href=\"https://www.youtube.com/watch?v=FJ078sO35M0\" target=\"_blank\"\n",
      "Dr. Chuck goes stock car racing (2002)\n",
      "href=\"http://afs.dr-chuck.com/citoolkit\" target=_blank\n",
      "The Community Information Toolkit</a> - A project to provide public libraries and\n",
      "other organizations a start on using Internet in Commmunity Networking. (1999)\n",
      "td valign=top align=center width=180\n",
      "div id=\"google_translate_element\"></div><script type=\"text/javascript\"\n",
      "function googleTranslateElementInit() {\n",
      "  new google.translate.TranslateElement({pageLanguage: 'en', layout: google.translate.TranslateElement.InlineLayout.SIMPLE, gaTrack: true, gaId: 'UA-423997-1'}, 'google_translate_element');\n",
      "}\n",
      "type=\"text/javascript\" src=\"//translate.google.com/translate_a/element.js?cb=googleTranslateElementInit\"></script>\n",
      "class=\"twitter-timeline\" href=\"https://twitter.com/drchuck\" data-widget-id=\"282172185219567616\">Tweets by @drchuck</a>\n",
      "!function(d,s,id){var js,fjs=d.getElementsByTagName(s)[0],p=/^http:/.test(d.location)?'http':'https';if(!d.getElementById(id)){js=d.createElement(s);js.id=id;js.src=p+\"://platform.twitter.com/widgets.js\";fjs.parentNode.insertBefore(js,fjs);}}(document,\"script\",\"twitter-wjs\");</script>\n",
      "</table>\n",
      "<br> &nbsp;\n",
      "<script type=\"text/javascript\">\n",
      "  var _gaq = _gaq || [];\n",
      "  _gaq.push(['_setAccount', 'UA-423997-1']);\n",
      "  _gaq.push(['_setDomainName', 'dr-chuck.com']);\n",
      "  _gaq.push(['_trackPageview']);\n",
      "  (function() {\n",
      "    var ga = document.createElement('script'); ga.type = 'text/javascript'; ga.async = true;\n",
      "    ga.src = ('https:' == document.location.protocol ? 'https://ssl' : 'http://www') + '.google-analytics.com/ga.js';\n",
      "    var s = document.getElementsByTagName('script')[0]; s.parentNode.insertBefore(ga, s);\n",
      "  })();\n",
      "</script>\n",
      "</body>\n",
      "</html>\n"
     ]
    }
   ],
   "source": []
  }
 ],
 "metadata": {
  "kernelspec": {
   "display_name": "Python 3",
   "language": "python",
   "name": "python3"
  },
  "language_info": {
   "codemirror_mode": {
    "name": "ipython",
    "version": 3
   },
   "file_extension": ".py",
   "mimetype": "text/x-python",
   "name": "python",
   "nbconvert_exporter": "python",
   "pygments_lexer": "ipython3",
   "version": "3.8.3"
  }
 },
 "nbformat": 4,
 "nbformat_minor": 4
}
