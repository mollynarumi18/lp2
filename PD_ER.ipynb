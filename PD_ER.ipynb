{
 "cells": [
  {
   "cell_type": "markdown",
   "metadata": {},
   "source": [
    "# Actividades: expresiones regulares (regex)\n",
    "\n",
    "Descargar el archivo *dr_chuck.txt* \n",
    "1. Imprimir las líneas del archivo que contiene 'href=https:' usando métodos o funciones de caracteres.\n",
    "2. Imprimir las líneas del archivo que empiecen con 't', seguido por dos caracteres cualquiera y luego seguidos por 's:'\n",
    "3. Imprimir las líneas del archivo que contengan el signo @.\n",
    "4. Contar el número de espacios en blanco por línea en el archivo "
   ]
  },
  {
   "cell_type": "code",
   "execution_count": null,
   "metadata": {},
   "outputs": [],
   "source": []
  }
 ],
 "metadata": {
  "kernelspec": {
   "display_name": "Python 3",
   "language": "python",
   "name": "python3"
  },
  "language_info": {
   "codemirror_mode": {
    "name": "ipython",
    "version": 3
   },
   "file_extension": ".py",
   "mimetype": "text/x-python",
   "name": "python",
   "nbconvert_exporter": "python",
   "pygments_lexer": "ipython3",
   "version": "3.8.3"
  }
 },
 "nbformat": 4,
 "nbformat_minor": 4
}
