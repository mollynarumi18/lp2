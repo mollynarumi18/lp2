{
  "cells": [
    {
      "cell_type": "markdown",
      "source": [
        "## **ACCEDIENDO (LEYENDO) HTML CON RE Y BEAUTIFULSOP DESDE WEB SITES**\n",
        "\n",
        "---\n",
        "\n"
      ],
      "metadata": {
        "id": "ey84PlSbxU9S"
      }
    },
    {
      "cell_type": "markdown",
      "source": [
        "## HTML"
      ],
      "metadata": {
        "id": "5avAHeYg9UGJ"
      }
    },
    {
      "cell_type": "markdown",
      "metadata": {
        "id": "bWqfzXksheUX"
      },
      "source": [
        "### **Accediendo con urllib**"
      ]
    },
    {
      "cell_type": "code",
      "execution_count": null,
      "metadata": {
        "id": "TdzL91CuheUc"
      },
      "outputs": [],
      "source": [
        "#Se utiliza para realizar solicitudes\n",
        "import urllib.request, urllib.error\n",
        "url=\"https://www.pinterest.com/\"\n",
        "\n",
        "#Abrir la URL especificada y obtener una respuesta del servidor.\n",
        "response=urllib.request.urlopen(url)\n",
        "type(response) # response devuelve un objeto de tipo http.client.HTTPResponse, que contiene la respuesta del servidor.\n",
        "\n",
        "#  Leer y mostrar el contenido de la respuesta HTTP:\n",
        "print(response.read()) # read() devuelve los datos de la respuesta como una secuencia de bytes.\n"
      ]
    },
    {
      "cell_type": "markdown",
      "source": [
        "### **Accediendo con Expresiones Regulares y BeautifulSoup**"
      ],
      "metadata": {
        "id": "tOhukzS5vKyM"
      }
    },
    {
      "cell_type": "markdown",
      "source": [
        "- **Ejemplo con fragmento de HTML:**"
      ],
      "metadata": {
        "id": "UVViGEsGxDvt"
      }
    },
    {
      "cell_type": "code",
      "source": [
        "from bs4 import BeautifulSoup\n",
        "\n",
        "# fragmento de HTML:\n",
        "html = \"\"\"\n",
        "<li class=\"scrollable__item mb-8 col-md-4 col-lg-3\">\n",
        "    <div class=\"card border relative bg-white flex shadow-cards min-h-14 h-full flex-col\">\n",
        "        <div class=\"flex flex-wrap md:no-wrap\">\n",
        "            <h3 aria-describedby=\"presidenta-dina-boluarte-expreso-el-deseo-de-su-gobierno-de-continuar-el-trabajo-hermanado-con-panama-description\" class=\"text-base leading-snug flex-1 mt-4 sm:mt-0\">\n",
        "                <a class=\"text-primary track-ga-click card__mock hover:no-underline\" data-origin=\"-noticias-1-presidenta-dina-boluarte-expresó-el-deseo-de-su-gobierno-de-continuar-el-trabajo-hermanado-con-panamá-link\" href=\"/institucion/presidencia/noticias/950578-presidenta-dina-boluarte-expreso-el-deseo-de-su-gobierno-de-continuar-el-trabajo-hermanado-con-panama\">\n",
        "                    Presidenta Dina Boluarte expresó el deseo de su Gobierno de continuar el trabajo hermanado con Panamá\n",
        "                </a>\n",
        "            </h3>\n",
        "        </div>\n",
        "    </div>\n",
        "</li>\n",
        "\"\"\"\n",
        "\n",
        "# Parsear el HTML: analizador para analizar el HTML (analizador integrado de Python llamado \"html.parser\")\n",
        "soup = BeautifulSoup(html, \"html.parser\") # objeto soup: representa el árbol de análisis del HTML proporcionado\n",
        "\n",
        "# Encontrar el texto del enlace:\n",
        "texto_enlace = soup.find(\"a\").text.strip() # con \"find\" busca el primer elemento <a> en el árbol de análisis del HTML representado por el objeto soup\n",
        "\n",
        "# Imprimir el texto del enlace:\n",
        "print(\"Texto del enlace:\", texto_enlace)\n"
      ],
      "metadata": {
        "id": "abjGGkfimWgA"
      },
      "execution_count": null,
      "outputs": []
    },
    {
      "cell_type": "code",
      "source": [
        "print(soup.prettify())"
      ],
      "metadata": {
        "id": "7S7_3Shn3h4I"
      },
      "execution_count": null,
      "outputs": []
    },
    {
      "cell_type": "markdown",
      "source": [
        "- **Desde un URL:**"
      ],
      "metadata": {
        "id": "yxQFlzw72n-J"
      }
    },
    {
      "cell_type": "code",
      "source": [
        "import re\n",
        "import requests\n",
        "from bs4 import BeautifulSoup\n",
        "\n",
        "# URL de la página web que quieres analizar\n",
        "url = \"https://www.pinterest.com/\"\n",
        "\n",
        "# Realizar la solicitud HTTP GET a la página web\n",
        "response = requests.get(url)\n",
        "\n",
        "response.text"
      ],
      "metadata": {
        "id": "JBl92JnOs6x3"
      },
      "execution_count": null,
      "outputs": []
    },
    {
      "cell_type": "code",
      "source": [
        "# Comprobar si la solicitud fue exitosa (código de estado 200)\n",
        "if response.status_code == 200:\n",
        "    # Crear un objeto BeautifulSoup para analizar el contenido HTML:\n",
        "    soup = BeautifulSoup(response.content, \"html.parser\")\n",
        "\n",
        "    # Encontrar todos los enlaces (<link>) en la página:\n",
        "    links = soup.find_all(\"link\", href=True)\n",
        "\n",
        "    # Utilizar una expresión regular para filtrar los enlaces que comienzan con \"https\"\n",
        "    https_links = [link[\"href\"] for link in links if re.match(r'^https://', link[\"href\"])]\n",
        "\n",
        "    # Imprimir los enlaces que comienzan con \"https\"\n",
        "    for link in https_links:\n",
        "        print(link)\n",
        "else:\n",
        "    print(\"Error al cargar la página:\", response.status_code)\n"
      ],
      "metadata": {
        "id": "_PfckIClwdaP"
      },
      "execution_count": null,
      "outputs": []
    },
    {
      "cell_type": "code",
      "execution_count": null,
      "metadata": {
        "id": "acL04iMdheUi"
      },
      "outputs": [],
      "source": [
        "#Ejemplo 2\n",
        "\n",
        "x = urllib.request.urlopen ('https://www.google.com/')\n",
        "#print (x.read ())\n",
        "\n",
        "#usando Beautifull\n",
        "from bs4 import BeautifulSoup\n",
        "sopa = BeautifulSoup(x)\n",
        "#print(sopa)\n",
        "print(sopa.prettify())"
      ]
    },
    {
      "cell_type": "code",
      "source": [
        "#print(sopa.find_all('a'))\n",
        "print(sopa.find_all(id=\"mngb\"))"
      ],
      "metadata": {
        "id": "1Gb20mzgNw0X"
      },
      "execution_count": null,
      "outputs": []
    },
    {
      "cell_type": "markdown",
      "source": [
        "#a = anchor = anclas"
      ],
      "metadata": {
        "id": "iVY4OHIxO2Z9"
      }
    },
    {
      "cell_type": "code",
      "source": [
        "#print(sopa.prettify())\n",
        "#print(sopa.find_all('a'))\n",
        "#print(sopa.find_all(id=\"mngb\"))\n",
        "#sopa.find_all(id=\"gbar\")\n",
        "#sopa.find_all('a',{'class':'gb1'})"
      ],
      "metadata": {
        "id": "wdRkwey07FZR"
      },
      "execution_count": null,
      "outputs": []
    },
    {
      "cell_type": "code",
      "source": [
        "div_google = sopa.find(id=\"gbar\")\n",
        "anchors=[]\n",
        "if div_google is not None:\n",
        "  anchors=div_google.find_all('a')\n",
        "hrefs=[a['href'] for a in anchors]\n",
        "hrefs"
      ],
      "metadata": {
        "id": "es9HgSm71Ke8"
      },
      "execution_count": null,
      "outputs": []
    },
    {
      "cell_type": "markdown",
      "metadata": {
        "id": "0TPSLotbheUk"
      },
      "source": [
        "<h1>XML</h1>  "
      ]
    },
    {
      "cell_type": "markdown",
      "source": [
        "https://docs.python.org/es/3.9/library/xml.etree.elementtree.html"
      ],
      "metadata": {
        "id": "78lKczaAI5l6"
      }
    },
    {
      "cell_type": "code",
      "execution_count": null,
      "metadata": {
        "id": "tynxnKOiheUl"
      },
      "outputs": [],
      "source": [
        "import xml.etree.ElementTree as ET\n",
        "\n",
        "input = '''\n",
        "<stuff>\n",
        "  <users>\n",
        "    <user x=\"1\">\n",
        "      <id>001</id>\n",
        "      <name>Patricia</name>\n",
        "      <consumer>Verduras</consumer>\n",
        "    </user>\n",
        "    <user x=\"20\">\n",
        "      <id>0020</id>\n",
        "      <name>Alisson</name>\n",
        "      <consumer>Menestras</consumer>\n",
        "    </user>\n",
        "  </users>\n",
        "</stuff>'''\n",
        "\n",
        "stuff = ET.fromstring(input)\n",
        "lst = stuff.findall('users/user')\n",
        "print('User count:', len(lst))\n",
        "\n",
        "for item in lst:\n",
        "    print('Id', item.find('id').text)\n",
        "    print('Nombre', item.find('name').text)\n",
        "    print('consumer', item.find('consumer').text)\n",
        "    print('Attribute', item.get('x'))\n",
        ""
      ]
    },
    {
      "cell_type": "markdown",
      "metadata": {
        "id": "w0JRXkonheUn"
      },
      "source": [
        "<h1>JSON </h1>"
      ]
    },
    {
      "cell_type": "markdown",
      "metadata": {
        "id": "VqsHqwLWheUo"
      },
      "source": [
        "<h3>Lectura sin usar JSON</h3>"
      ]
    },
    {
      "cell_type": "code",
      "execution_count": null,
      "metadata": {
        "id": "DljaJ9MPheUp"
      },
      "outputs": [],
      "source": [
        "{\"Minnimarket\":\n",
        " [\n",
        "  {\"Menestras\":\n",
        "   [\n",
        "    {\"Nombre\":\"Arveja Verde Partida\",\"Cantidad\":10},\n",
        "    {\"Nombre\":\"Lenteja Bebé\",\"Cantidad\":20},\n",
        "    {\"Nombre\":\"Frijol Canario\",\"Cantidad\":30}\n",
        "   ]\n",
        "  },\n",
        "  {\"Verdura\":\n",
        "   [\n",
        "    {\"Nombre\":\"Lechuga\",\"Cantidad\":15},\n",
        "    {\"Nombre\":\"Tomate\",\"Cantidad\":30},\n",
        "    {\"Nombre\":\"Pepino\",\"Cantidad\":20}\n",
        "   ]\n",
        "  },\n",
        "  {\"tubérculos\":\n",
        "   [\n",
        "    {\"Nombre\":\"papa amarilla\",\"Cantidad\":20},\n",
        "    {\"Nombre\":\"Batata\",\"Cantidad\":15},\n",
        "    {\"Nombre\":\"Yuca\",\"Cantidad\":20}\n",
        "   ]\n",
        "  }\n",
        " ]\n",
        "}"
      ]
    },
    {
      "cell_type": "markdown",
      "metadata": {
        "id": "QHruu2NvheUr"
      },
      "source": [
        "<h3>Importando JSON</h3>"
      ]
    },
    {
      "cell_type": "code",
      "execution_count": null,
      "metadata": {
        "id": "ZyDzay3wheUs"
      },
      "outputs": [],
      "source": [
        "import json\n",
        "\n",
        "data = {\"Minimarket\": [  {\"Menestras\":   [    {\"Nombre\":\"Arveja Verde Partida\",\"Cantidad\":10},    {\"Nombre\":\"Lenteja Bebé\",\"Cantidad\":20},    {\"Nombre\":\"Frijol Canario\",\"Cantidad\":30}   ]  },  {\"Verdura\":   [    {\"Nombre\":\"Lechuga\",\"Cantidad\":15},    {\"Nombre\":\"Tomate\",\"Cantidad\":30},    {\"Nombre\":\"Pepino\",\"Cantidad\":20}   ]  } ]}\n",
        "\n",
        "#Nos imprime en pantalla data como un tipo de dato nativo.\n",
        "print ('DATA:', repr(data))\n",
        "\n",
        "#Nos devuelve el String con el JSON\n",
        "data_string = json.dumps(data)\n",
        "print ('JSON:', data_string)\n"
      ]
    },
    {
      "cell_type": "code",
      "execution_count": null,
      "metadata": {
        "id": "FSOpG_X2heUu",
        "outputId": "5d46c206-1fbf-496c-afcc-46c9b4b930be"
      },
      "outputs": [
        {
          "name": "stdout",
          "output_type": "stream",
          "text": [
            "ENCODED: {\"Minimarket\": [{\"Menestras\": [{\"Nombre\": \"Arveja Verde Partida\", \"Cantidad\": 10}, {\"Nombre\": \"Lenteja Beb\\u00e9\", \"Cantidad\": 20}, {\"Nombre\": \"Frijol Canario\", \"Cantidad\": 30}]}, {\"Verdura\": [{\"Nombre\": \"Lechuga\", \"Cantidad\": 15}, {\"Nombre\": \"Tomate\", \"Cantidad\": 30}, {\"Nombre\": \"Pepino\", \"Cantidad\": 20}]}]}\n",
            "DECODED: {'Minimarket': [{'Menestras': [{'Nombre': 'Arveja Verde Partida', 'Cantidad': 10}, {'Nombre': 'Lenteja Bebé', 'Cantidad': 20}, {'Nombre': 'Frijol Canario', 'Cantidad': 30}]}, {'Verdura': [{'Nombre': 'Lechuga', 'Cantidad': 15}, {'Nombre': 'Tomate', 'Cantidad': 30}, {'Nombre': 'Pepino', 'Cantidad': 20}]}]}\n"
          ]
        }
      ],
      "source": [
        "import json\n",
        "\n",
        "data = {\"Minimarket\": [  {\"Menestras\":   [    {\"Nombre\":\"Arveja Verde Partida\",\"Cantidad\":10},    {\"Nombre\":\"Lenteja Bebé\",\"Cantidad\":20},    {\"Nombre\":\"Frijol Canario\",\"Cantidad\":30}   ]  },  {\"Verdura\":   [    {\"Nombre\":\"Lechuga\",\"Cantidad\":15},    {\"Nombre\":\"Tomate\",\"Cantidad\":30},    {\"Nombre\":\"Pepino\",\"Cantidad\":20}   ]  } ]}\n",
        "\n",
        "data_string = json.dumps(data)\n",
        "print ('ENCODED:', data_string)\n",
        "\n",
        "decoded = json.loads(data_string)\n",
        "print ('DECODED:', decoded)"
      ]
    },
    {
      "cell_type": "code",
      "execution_count": null,
      "metadata": {
        "colab": {
          "base_uri": "https://localhost:8080/"
        },
        "id": "zC5X3BRXheUv",
        "outputId": "395fa43f-54fb-42bf-dac7-e6ac7700eb28"
      },
      "outputs": [
        {
          "output_type": "stream",
          "name": "stdout",
          "text": [
            "Tenemos 20 Lentejas Bebé.\n",
            "Tenemos 30 Lechugas.\n"
          ]
        }
      ],
      "source": [
        "import json\n",
        "\n",
        "data = {\"Minimarket\": [  {\"Menestras\":   [    {\"Nombre\":\"Arveja Verde Partida\",\"Cantidad\":10},    {\"Nombre\":\"Lenteja Bebé\",\"Cantidad\":20\n",
        "},    {\"Nombre\":\"Frijol Canario\",\"Cantidad\":30}   ]  },  {\"Verdura\":   [    {\"Nombre\":\"Lechuga\",\"Cantidad\":30},    {\"Nombre\":\"Tomate\",\"Cantidad\":20},    {\"Nombre\":\"Pepino\",\"Cantidad\":20}   ]  } ]}\n",
        "\n",
        "#encoded\n",
        "data_string = json.dumps(data)\n",
        "\n",
        "#Decoded\n",
        "decoded = json.loads(data_string)\n",
        "\n",
        "#print(data)\n",
        "#print(type(data))\n",
        "#print(data.keys())\n",
        "\n",
        "print (\"Tenemos \"+str(decoded[\"Minimarket\"][0][\"Menestras\"][1][\"Cantidad\"])+\" Lentejas Bebé.\")\n",
        "print (\"Tenemos \"+str(decoded[\"Minimarket\"][1][\"Verdura\"][0][\"Cantidad\"])+\" Lechugas.\")\n"
      ]
    }
  ],
  "metadata": {
    "kernelspec": {
      "display_name": "Python 3",
      "language": "python",
      "name": "python3"
    },
    "language_info": {
      "codemirror_mode": {
        "name": "ipython",
        "version": 3
      },
      "file_extension": ".py",
      "mimetype": "text/x-python",
      "name": "python",
      "nbconvert_exporter": "python",
      "pygments_lexer": "ipython3",
      "version": "3.7.6"
    },
    "colab": {
      "provenance": []
    }
  },
  "nbformat": 4,
  "nbformat_minor": 0
}