{
 "cells": [
  {
   "cell_type": "code",
   "execution_count": null,
   "metadata": {
    "colab": {},
    "colab_type": "code",
    "id": "S8p5h-tuBNpY"
   },
   "outputs": [],
   "source": [
    "### Insertando código Python"
   ]
  },
  {
   "cell_type": "code",
   "execution_count": 10,
   "metadata": {
    "colab": {
     "base_uri": "https://localhost:8080/",
     "height": 34
    },
    "colab_type": "code",
    "executionInfo": {
     "elapsed": 481,
     "status": "ok",
     "timestamp": 1595014817548,
     "user": {
      "displayName": "Ana Cecilia Vargas Paredes",
      "photoUrl": "https://lh3.googleusercontent.com/a-/AOh14GjPv_-ryavawgxIVuCxtmjoaetzvQEWuB3vEsgF5Q=s64",
      "userId": "13533717859936293059"
     },
     "user_tz": 300
    },
    "id": "Y0pOgRJL6vCf",
    "outputId": "64ad15aa-404a-46ab-dec8-f49fe7344bc7"
   },
   "outputs": [
    {
     "name": "stdout",
     "output_type": "stream",
     "text": [
      "12.5\n"
     ]
    }
   ],
   "source": [
    "x = 10\n",
    "y = 15\n",
    "prom = (x+y)/2\n",
    "print (prom)"
   ]
  },
  {
   "cell_type": "code",
   "execution_count": 23,
   "metadata": {
    "colab": {
     "base_uri": "https://localhost:8080/",
     "height": 204
    },
    "colab_type": "code",
    "executionInfo": {
     "elapsed": 537,
     "status": "ok",
     "timestamp": 1595016536698,
     "user": {
      "displayName": "Ana Cecilia Vargas Paredes",
      "photoUrl": "https://lh3.googleusercontent.com/a-/AOh14GjPv_-ryavawgxIVuCxtmjoaetzvQEWuB3vEsgF5Q=s64",
      "userId": "13533717859936293059"
     },
     "user_tz": 300
    },
    "id": "-jgmE1cpFJ1Y",
    "outputId": "0ce85659-12c7-4bbc-938d-6a20bb96e7b0"
   },
   "outputs": [
    {
     "name": "stdout",
     "output_type": "stream",
     "text": [
      "<class 'list'>\n",
      "3\n",
      "[5.2, 5.8, 5.9]\n",
      "[]\n",
      "0\n",
      "[5.2, 5.8, 5.9, 15.6, 8.975]\n",
      "[5.2, 5.8, 5.9, 15.6, 8.975]\n",
      "140560562781192\n",
      "140560562781448\n",
      "140560562781448\n"
     ]
    },
    {
     "data": {
      "text/plain": [
       "10914624"
      ]
     },
     "execution_count": 23,
     "metadata": {
      "tags": []
     },
     "output_type": "execute_result"
    }
   ],
   "source": [
    "### Trabajando con listas\n",
    "A = [5.2,5.8,5.9]\n",
    "## Recordemos funciones para trabajar listas\n",
    "print(type(A))\n",
    "print(len(A))\n",
    "print(A)\n",
    "A.append(10.9)\n",
    "A.clear()\n",
    "print(A)\n",
    "print(len(A))\n",
    "A = [5.2,5.8,5.9,15.6,8.975]\n",
    "A.count(5.2)\n",
    "B=A.copy()\n",
    "print(A)\n",
    "print(B)\n",
    "print(id(B))\n",
    "print(id(A))\n",
    "C=[2,3,6]\n",
    "A.extend(C)\n",
    "print(id(A))\n",
    "id(5)\n"
   ]
  },
  {
   "cell_type": "code",
   "execution_count": 35,
   "metadata": {
    "colab": {
     "base_uri": "https://localhost:8080/",
     "height": 85
    },
    "colab_type": "code",
    "executionInfo": {
     "elapsed": 491,
     "status": "ok",
     "timestamp": 1595018042912,
     "user": {
      "displayName": "Ana Cecilia Vargas Paredes",
      "photoUrl": "https://lh3.googleusercontent.com/a-/AOh14GjPv_-ryavawgxIVuCxtmjoaetzvQEWuB3vEsgF5Q=s64",
      "userId": "13533717859936293059"
     },
     "user_tz": 300
    },
    "id": "HBOZWza1dDx8",
    "outputId": "cbf45fc7-522c-4a62-b301-80056e50e241"
   },
   "outputs": [
    {
     "name": "stdout",
     "output_type": "stream",
     "text": [
      "3\n",
      "[5.2, 5.8, 5.9, 15.6]\n",
      "[15.6, 5.9, 5.8, 5.2]\n"
     ]
    },
    {
     "data": {
      "text/plain": [
       "[5.2, 5.8, 5.9, 15.6]"
      ]
     },
     "execution_count": 35,
     "metadata": {
      "tags": []
     },
     "output_type": "execute_result"
    }
   ],
   "source": [
    "A = [5.2,5.8,5.9,15.6,8.975]\n",
    "print(A.index(15.6))\n",
    "A.index(5.2)\n",
    "A.insert(3,10)\n",
    "A.pop()\n",
    "A.remove(10)\n",
    "print(A)\n",
    "A.reverse()\n",
    "print(A)\n",
    "A.sort()\n",
    "A\n"
   ]
  },
  {
   "cell_type": "code",
   "execution_count": 2,
   "metadata": {
    "colab": {
     "base_uri": "https://localhost:8080/",
     "height": 136
    },
    "colab_type": "code",
    "executionInfo": {
     "elapsed": 542,
     "status": "ok",
     "timestamp": 1595017004684,
     "user": {
      "displayName": "Ana Cecilia Vargas Paredes",
      "photoUrl": "https://lh3.googleusercontent.com/a-/AOh14GjPv_-ryavawgxIVuCxtmjoaetzvQEWuB3vEsgF5Q=s64",
      "userId": "13533717859936293059"
     },
     "user_tz": 300
    },
    "id": "LguG-dCOZ7wv",
    "outputId": "3d913f23-812e-4f24-a8f2-dfd7899c0d25"
   },
   "outputs": [
    {
     "name": "stdout",
     "output_type": "stream",
     "text": [
      "140718025291680\n",
      "140718025291840\n",
      "1865373828992\n",
      "5\n",
      "10\n",
      "140718025291680\n",
      "140718025291840\n"
     ]
    }
   ],
   "source": [
    "print(id(5))\n",
    "print(id(10))\n",
    "A=[5,10]\n",
    "print(id(A))\n",
    "print(A[0])\n",
    "print(A[1])\n",
    "print(id(A[0]))\n",
    "print(id(A[1]))                                                                        "
   ]
  },
  {
   "cell_type": "code",
   "execution_count": null,
   "metadata": {
    "colab": {},
    "colab_type": "code",
    "id": "3W0ORdm2VX0J"
   },
   "outputs": [],
   "source": []
  },
  {
   "cell_type": "code",
   "execution_count": 3,
   "metadata": {
    "colab": {
     "base_uri": "https://localhost:8080/",
     "height": 51
    },
    "colab_type": "code",
    "executionInfo": {
     "elapsed": 441,
     "status": "ok",
     "timestamp": 1595018178320,
     "user": {
      "displayName": "Ana Cecilia Vargas Paredes",
      "photoUrl": "https://lh3.googleusercontent.com/a-/AOh14GjPv_-ryavawgxIVuCxtmjoaetzvQEWuB3vEsgF5Q=s64",
      "userId": "13533717859936293059"
     },
     "user_tz": 300
    },
    "id": "K-6XT4c0Kfui",
    "outputId": "d9ae5b29-96a1-4157-92d7-2fb43b302ab3"
   },
   "outputs": [
    {
     "name": "stdout",
     "output_type": "stream",
     "text": [
      "[5, 10]\n",
      "15\n"
     ]
    }
   ],
   "source": [
    "print(A)\n",
    "## i  es un elemento de la lista\n",
    "s = 0\n",
    "for i in A:\n",
    "    s = s+ i                               \n",
    "print(s)    "
   ]
  },
  {
   "cell_type": "code",
   "execution_count": 4,
   "metadata": {
    "colab": {
     "base_uri": "https://localhost:8080/",
     "height": 231
    },
    "colab_type": "code",
    "executionInfo": {
     "elapsed": 466,
     "status": "error",
     "timestamp": 1595018474330,
     "user": {
      "displayName": "Ana Cecilia Vargas Paredes",
      "photoUrl": "https://lh3.googleusercontent.com/a-/AOh14GjPv_-ryavawgxIVuCxtmjoaetzvQEWuB3vEsgF5Q=s64",
      "userId": "13533717859936293059"
     },
     "user_tz": 300
    },
    "id": "ounmcY6gftY-",
    "outputId": "e2b87013-538b-4ff8-9fd1-95e9fa9f9f94"
   },
   "outputs": [
    {
     "name": "stdout",
     "output_type": "stream",
     "text": [
      "15\n"
     ]
    },
    {
     "data": {
      "text/plain": [
       "[5, 10, 'hola']"
      ]
     },
     "execution_count": 4,
     "metadata": {},
     "output_type": "execute_result"
    }
   ],
   "source": [
    "## i es el index de la lista\n",
    "\n",
    "S=0\n",
    "for i in range(len(A)):\n",
    "  S = S + A[i]\n",
    "print(S)\n",
    "\n",
    "type(A)\n",
    "A.extend([\"hola\"])\n",
    "A"
   ]
  },
  {
   "cell_type": "code",
   "execution_count": null,
   "metadata": {
    "colab": {},
    "colab_type": "code",
    "id": "l8ua3WB2gupN"
   },
   "outputs": [],
   "source": []
  },
  {
   "cell_type": "code",
   "execution_count": 5,
   "metadata": {
    "colab": {
     "base_uri": "https://localhost:8080/",
     "height": 34
    },
    "colab_type": "code",
    "executionInfo": {
     "elapsed": 436,
     "status": "ok",
     "timestamp": 1595018531878,
     "user": {
      "displayName": "Ana Cecilia Vargas Paredes",
      "photoUrl": "https://lh3.googleusercontent.com/a-/AOh14GjPv_-ryavawgxIVuCxtmjoaetzvQEWuB3vEsgF5Q=s64",
      "userId": "13533717859936293059"
     },
     "user_tz": 300
    },
    "id": "N-LzsZ9dgzzN",
    "outputId": "917bc2c5-4aa7-49da-c680-a3d5b1dde5b7"
   },
   "outputs": [
    {
     "data": {
      "text/plain": [
       "[5, 10, 'hola', 'hola']"
      ]
     },
     "execution_count": 5,
     "metadata": {},
     "output_type": "execute_result"
    }
   ],
   "source": [
    "type(A)\n",
    "A.extend([\"hola\"])\n",
    "A"
   ]
  },
  {
   "cell_type": "code",
   "execution_count": 7,
   "metadata": {
    "colab": {
     "base_uri": "https://localhost:8080/",
     "height": 221
    },
    "colab_type": "code",
    "executionInfo": {
     "elapsed": 450,
     "status": "ok",
     "timestamp": 1595019199479,
     "user": {
      "displayName": "Ana Cecilia Vargas Paredes",
      "photoUrl": "https://lh3.googleusercontent.com/a-/AOh14GjPv_-ryavawgxIVuCxtmjoaetzvQEWuB3vEsgF5Q=s64",
      "userId": "13533717859936293059"
     },
     "user_tz": 300
    },
    "id": "-5yUCaK8Kfun",
    "outputId": "a8129e48-a614-4096-ff24-66d2dcad8560"
   },
   "outputs": [
    {
     "name": "stdout",
     "output_type": "stream",
     "text": [
      "[5.2 5.8 5.9]\n",
      "5.633333333333333\n",
      "0.09555555555555555\n",
      "[[1 2 3]\n",
      " [4 5 6]]\n",
      "2.0\n",
      "[2. 5.]\n",
      "[2.5 3.5 4.5]\n",
      "[2. 5.]\n",
      "[2.5 3.5 4.5]\n",
      "2.5\n"
     ]
    }
   ],
   "source": [
    "###importando librerías:\n",
    "import numpy as np\n",
    "\n",
    "A = [5.2,5.8,5.9]\n",
    "Ar = np.array(A)\n",
    "print(Ar)\n",
    "sum(Ar)\n",
    "media = np.mean(Ar)\n",
    "print(media)\n",
    "varianza = np.var(Ar)\n",
    "print(varianza)\n",
    "B = np.array([[1, 2, 3], [4, 5, 6]])\n",
    "print(B)\n",
    "print(np.mean(B[0]))\n",
    "print(np.mean(B,axis=1))\n",
    "print(np.mean(B,axis=0))\n",
    "print(B.mean(axis=1))\n",
    "print(B.mean(axis=0))\n",
    "print(B[:,0].mean())                        "
   ]
  },
  {
   "cell_type": "code",
   "execution_count": 47,
   "metadata": {
    "colab": {
     "base_uri": "https://localhost:8080/",
     "height": 51
    },
    "colab_type": "code",
    "executionInfo": {
     "elapsed": 425,
     "status": "ok",
     "timestamp": 1595018749057,
     "user": {
      "displayName": "Ana Cecilia Vargas Paredes",
      "photoUrl": "https://lh3.googleusercontent.com/a-/AOh14GjPv_-ryavawgxIVuCxtmjoaetzvQEWuB3vEsgF5Q=s64",
      "userId": "13533717859936293059"
     },
     "user_tz": 300
    },
    "id": "SvO2iXGphh6u",
    "outputId": "ab1d15c4-8a71-4fc5-ca3c-3dff5ed78ab1"
   },
   "outputs": [
    {
     "name": "stdout",
     "output_type": "stream",
     "text": [
      "['5.2' '5.8' '5.9' '15.6' 'h' 'o' 'l' 'a' 'hola']\n"
     ]
    },
    {
     "data": {
      "text/plain": [
       "numpy.ndarray"
      ]
     },
     "execution_count": 47,
     "metadata": {
      "tags": []
     },
     "output_type": "execute_result"
    }
   ],
   "source": [
    "###importando librerías:\n",
    "import numpy as np\n",
    "Ar = np.array(A)\n",
    "print(Ar)\n",
    "type(Ar)"
   ]
  },
  {
   "cell_type": "code",
   "execution_count": 10,
   "metadata": {
    "colab": {
     "base_uri": "https://localhost:8080/",
     "height": 122
    },
    "colab_type": "code",
    "executionInfo": {
     "elapsed": 9331,
     "status": "ok",
     "timestamp": 1595012815477,
     "user": {
      "displayName": "Ana Cecilia Vargas Paredes",
      "photoUrl": "https://lh3.googleusercontent.com/a-/AOh14GjPv_-ryavawgxIVuCxtmjoaetzvQEWuB3vEsgF5Q=s64",
      "userId": "13533717859936293059"
     },
     "user_tz": 300
    },
    "id": "tiQiWvP2BSl5",
    "outputId": "46fe2c3e-b591-4fcc-b7d6-0f925fcf1da2"
   },
   "outputs": [
    {
     "name": "stdout",
     "output_type": "stream",
     "text": [
      "Requirement already satisfied: pandas in c:\\users\\ana\\anaconda3\\lib\\site-packages (1.0.5)\n",
      "Requirement already satisfied: python-dateutil>=2.6.1 in c:\\users\\ana\\anaconda3\\lib\\site-packages (from pandas) (2.8.1)\n",
      "Requirement already satisfied: pytz>=2017.2 in c:\\users\\ana\\anaconda3\\lib\\site-packages (from pandas) (2020.1)\n",
      "Requirement already satisfied: numpy>=1.13.3 in c:\\users\\ana\\anaconda3\\lib\\site-packages (from pandas) (1.18.5)\n",
      "Requirement already satisfied: six>=1.5 in c:\\users\\ana\\anaconda3\\lib\\site-packages (from python-dateutil>=2.6.1->pandas) (1.15.0)\n"
     ]
    }
   ],
   "source": [
    "! pip install pandas\n",
    "import pandas"
   ]
  },
  {
   "cell_type": "code",
   "execution_count": 16,
   "metadata": {
    "colab": {
     "base_uri": "https://localhost:8080/",
     "height": 102
    },
    "colab_type": "code",
    "executionInfo": {
     "elapsed": 7347,
     "status": "ok",
     "timestamp": 1595012831614,
     "user": {
      "displayName": "Ana Cecilia Vargas Paredes",
      "photoUrl": "https://lh3.googleusercontent.com/a-/AOh14GjPv_-ryavawgxIVuCxtmjoaetzvQEWuB3vEsgF5Q=s64",
      "userId": "13533717859936293059"
     },
     "user_tz": 300
    },
    "id": "MYbbgBOtCo_J",
    "outputId": "799364f4-5045-4a4f-9b43-9129c476ab6b",
    "scrolled": true
   },
   "outputs": [
    {
     "name": "stdout",
     "output_type": "stream",
     "text": [
      "\"hola mundo\"\n"
     ]
    },
    {
     "name": "stderr",
     "output_type": "stream",
     "text": [
      "Ya existe el subdirectorio o el archivo PRUEBA.\n"
     ]
    },
    {
     "name": "stdout",
     "output_type": "stream",
     "text": [
      " El volumen de la unidad C no tiene etiqueta.\n",
      " El n£mero de serie del volumen es: 3C5D-197B\n",
      "\n",
      " Directorio de C:\\Users\\ANA\\Desktop\n",
      "\n",
      "17/01/2021  22:36    <DIR>          .\n",
      "17/01/2021  22:36    <DIR>          ..\n",
      "13/01/2021  10:37    <DIR>          .ipynb_checkpoints\n",
      "28/12/2019  06:27             8,440 .RData\n",
      "02/12/2020  21:33             2,018 .Rhistory\n",
      "15/01/2021  23:45    <DIR>          ACRE\n",
      "14/01/2021  15:33             3,416 APUNTES.txt\n",
      "02/05/2020  13:53    <DIR>          BooksTesisJaime\n",
      "14/01/2021  11:04    <DIR>          clases\n",
      "11/01/2021  06:41               150 crede.txt\n",
      "24/11/2020  13:08    <DIR>          CURSOS\n",
      "21/06/2020  17:00             1,303 Dropbox.lnk\n",
      "10/11/2020  07:16    <DIR>          EdxIntroductionComputerSciencewith Pytohn\n",
      "17/08/2020  10:59    <DIR>          English\n",
      "28/09/2018  01:55             7,490 Eula.txt\n",
      "13/10/2018  20:14             2,483 Excel 2016.lnk\n",
      "21/12/2020  18:55    <DIR>          fotos\n",
      "20/11/2020  19:12             2,345 GitHub Desktop.lnk\n",
      "07/07/2019  16:22             1,843 Google Drive.lnk\n",
      "27/12/2020  15:55    <DIR>          HerramientasBioinform tica\n",
      "27/05/2020  20:38    <DIR>          HT-clases\n",
      "17/10/2018  19:16             2,652 IDLE (Python 3.6 64-bit) (2).lnk\n",
      "29/09/2020  14:40               719 keys.txt\n",
      "25/12/2020  09:45    <DIR>          LIBRO M‚todos\n",
      "15/01/2021  20:55             2,231 Loom.lnk\n",
      "17/01/2021  21:46             6,004 notebookMarkdown.ipynb\n",
      "25/06/2020  15:14    <DIR>          PersonalProject\n",
      "13/10/2018  20:15             2,494 PowerPoint 2016.lnk\n",
      "21/12/2020  16:15    <DIR>          ProgramaCienciaDatos\n",
      "17/01/2021  22:29    <DIR>          PRUEBA\n",
      "14/10/2018  07:21               941 RStudio.lnk\n",
      "17/01/2021  22:36            20,016 sesion17julio.ipynb\n",
      "14/12/2020  12:45    <DIR>          Techy\n",
      "17/01/2021  09:29    <DIR>          unalmProvisional\n",
      "14/01/2021  18:04    <DIR>          Virtualizaci¢nUNALM\n",
      "24/01/2020  05:12             1,989 Windows 10 TU LICENCA EXPIRA PRONTO BY MARVEX.txt\n",
      "26/11/2020  18:04             1,925 Zoom.lnk\n",
      "              18 archivos         68,459 bytes\n",
      "              19 dirs  110,954,717,184 bytes libres\n",
      "\n",
      "Microsoft Windows [Versi¢n 10.0.18363.1316]\n",
      "PATH=C:\\Users\\ANA\\anaconda3;C:\\Users\\ANA\\anaconda3\\Library\\mingw-w64\\bin;C:\\Users\\ANA\\anaconda3\\Library\\usr\\bin;C:\\Users\\ANA\\anaconda3\\Library\\bin;C:\\Users\\ANA\\anaconda3\\Scripts;C:\\Users\\ANA\\anaconda3\\bin;C:\\Users\\ANA\\anaconda3\\condabin;C:\\ProgramData\\Anaconda3;C:\\ProgramData\\Anaconda3\\Library\\mingw-w64\\bin;C:\\ProgramData\\Anaconda3\\Library\\usr\\bin;C:\\ProgramData\\Anaconda3\\Library\\bin;C:\\ProgramData\\Anaconda3\\Scripts;C:\\WINDOWS\\system32;C:\\WINDOWS;C:\\WINDOWS\\System32\\Wbem;C:\\WINDOWS\\System32\\WindowsPowerShell\\v1.0;C:\\WINDOWS\\System32\\OpenSSH;C:\\Program Files\\Git\\cmd;C:\\Program Files\\MEGA-X;C:\\sqlite3;C:\\Users\\ANA\\AppData\\Local\\Programs\\Python\\Python38-32\\Scripts;C:\\Users\\ANA\\AppData\\Local\\Programs\\Python\\Python38-32;C:\\Users\\ANA\\AppData\\Local\\Programs\\Python\\Python36\\Scripts;C:\\Users\\ANA\\AppData\\Local\\Programs\\Python\\Python36;C:\\Users\\ANA\\AppData\\Local\\Microsoft\\WindowsApps;C:\\Users\\ANA\\AppData\\Roaming\\PAUP4;C:\\Program Files\\PAMLX\\paml4.9i\\bin;C:\\Users\\ANA\\AppData\\Local\\GitHubDesktop\\bin\n",
      "C:\\Users\\ANA\\Desktop\n"
     ]
    }
   ],
   "source": [
    "!echo \"hola mundo\"\n",
    "!mkdir PRUEBA\n",
    "!dir\n",
    "!ver\n",
    "!path\n",
    "!cd"
   ]
  },
  {
   "cell_type": "code",
   "execution_count": 8,
   "metadata": {
    "colab": {
     "base_uri": "https://localhost:8080/",
     "height": 34
    },
    "colab_type": "code",
    "executionInfo": {
     "elapsed": 1509,
     "status": "ok",
     "timestamp": 1595012947059,
     "user": {
      "displayName": "Ana Cecilia Vargas Paredes",
      "photoUrl": "https://lh3.googleusercontent.com/a-/AOh14GjPv_-ryavawgxIVuCxtmjoaetzvQEWuB3vEsgF5Q=s64",
      "userId": "13533717859936293059"
     },
     "user_tz": 300
    },
    "id": "wzwa9HY8LfHS",
    "outputId": "f2da132f-2c45-45be-bbb8-ac469ac5d5c2"
   },
   "outputs": [
    {
     "name": "stdout",
     "output_type": "stream",
     "text": [
      "[5.2, 5.8, 5.9]\n"
     ]
    }
   ],
   "source": [
    "print(A)\n"
   ]
  }
 ],
 "metadata": {
  "colab": {
   "name": "sesion17julio.ipynb",
   "provenance": [],
   "toc_visible": true
  },
  "kernelspec": {
   "display_name": "Python 3",
   "language": "python",
   "name": "python3"
  },
  "language_info": {
   "codemirror_mode": {
    "name": "ipython",
    "version": 3
   },
   "file_extension": ".py",
   "mimetype": "text/x-python",
   "name": "python",
   "nbconvert_exporter": "python",
   "pygments_lexer": "ipython3",
   "version": "3.8.3"
  }
 },
 "nbformat": 4,
 "nbformat_minor": 1
}
