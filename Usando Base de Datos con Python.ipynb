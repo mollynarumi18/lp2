{
 "cells": [
  {
   "cell_type": "markdown",
   "metadata": {},
   "source": [
    "# Usando Base de Datos y SQL\n",
    "\n",
    "## ¿Qué es un base de datos?\n",
    "\n",
    "Una base de datos es un archivo que está organizado para almacenar datos. \n",
    "\n",
    "La mayoría de las bases de datos están organizadas como un diccionario en el sentido de que asignan claves a valores, con la particularidad que la base de datos se almacena en el disco (u otra memoria permanente) por lo que se puede almacenar muchos más datos que un diccionario, que está limitado al tamaño de la memoria en la computadora.\n",
    "\n",
    "Al igual que un diccionario, el software de base de datos está diseñado para mantener la inserción y el acceso de datos de forma rápida, incluso para grandes cantidades de datos. El software de base de datos mantiene su rendimiento mediante la creación de índices a medida que se agregan datos a la base de datos lo que permite saltar rápidamente a una entrada en particular.\n",
    "\n",
    "Existen muchos sistemas de bases de datos diferentes que se utilizan para una amplia variedad de propósitos, entre ellos: Oracle, MySQL, Microsoft SQL Server, PostgreSQL y SQLite.\n",
    "SQLite es una base de datos muy común y ya está integrado en Python. SQLite está diseñado para integrarse en otras aplicaciones para proporcionar soporte de base de datos dentro de la aplicación. \n",
    "\n",
    "http://sqlite.org/\n",
    "\n",
    "## Algunos conceptos de Base de Datos\n",
    "\n",
    "Las estructuras de datos principales en una base de datos son: tablas, filas y columnas.\n",
    "En las descripciones técnicas de bases de datos relacionales, los conceptos de tabla, fila y columnas (campos) se denominan más formalmente como *relación, tupla y atributo*, respectivamente.\n",
    "\n",
    "Una relación es definida como un conjunto de tuplas que tienen los mismos atributos. Una tupla representa un objeto  e información sobre el objeto. Los objetos son típicamente objetos o conceptos. Una relación es usualmente descrita como una tabla, la cual es es organizada dentro de filas y columnas. Todos los datos referenciados por un atributo están en el mismo dominio y conforman las mismas restricciones.\n",
    "\n",
    "### Base de datos relacional\n",
    "\n",
    "Modelo de base de datos relacionales para el almacenamiento de filas y columnas en tablas. La potencia de la base de datos relacional radica en su capacidad para recuperar datos de manera eficiente de tablas y en particular en tablas relacionadas que son involucradas en las consultas\n",
    "\n",
    "#### Structure Query Language SQL\n",
    "\n",
    "SQL lenguaje utilizado para transmitir comandos a la Base de Datos. Las cuatro funciones básicas que realiza son: crear una tabla, recuparar una BD, actualizar data (insetar) y borrar.\n",
    "\n",
    "## Roles en proyectos grande:\n",
    "\n",
    "### Desarrollador de la aplicación\n",
    "\n",
    "Construye la lógica de la aplicación y monitorea el desempeño.\n",
    "\n",
    "### Administrador de BD\n",
    "\n",
    "Responsable del diseño, implementación y mantenimiento de una organización de BD. el rol incluye el desarrollo y diseño de estrategias de BD, monitoreo, mejora del desempeño y planificación para los requerimiento futuros. También puede coordinar e implementar medidas de seguridad para salvaguardar la BD.\n",
    "https://es.wikipedia.org/wiki/Administrador_de_base_de_datos\n",
    "\n",
    "\n",
    "## Modelo de Base de Datos\n",
    "\n",
    "Un modelo de BD o Schema de BD es la estructura o formato de BD, descrita en un lenguaje formal soportado por el Sistema de Base de Datos, es decir un Modelo de Base de Datos es la aplicación de un Modelo de Datos cuando se usa en conjunto con un sistema de Manejo de Base de Datos.\n",
    "\n",
    "https://en.wikipedia.org/wiki/Database_model\n",
    "\n",
    "## Sistema comúnes de Base de Datos\n",
    "\n",
    "- Oracle\n",
    "- MySql\n",
    "- SqlServer\n",
    "Otros proyectos libres OpenSource:\n",
    "\n",
    "- HSQL, Progress, SOLite"
   ]
  },
  {
   "cell_type": "code",
   "execution_count": null,
   "metadata": {},
   "outputs": [],
   "source": []
  }
 ],
 "metadata": {
  "kernelspec": {
   "display_name": "Python 3",
   "language": "python",
   "name": "python3"
  },
  "language_info": {
   "codemirror_mode": {
    "name": "ipython",
    "version": 3
   },
   "file_extension": ".py",
   "mimetype": "text/x-python",
   "name": "python",
   "nbconvert_exporter": "python",
   "pygments_lexer": "ipython3",
   "version": "3.8.3"
  }
 },
 "nbformat": 4,
 "nbformat_minor": 2
}
