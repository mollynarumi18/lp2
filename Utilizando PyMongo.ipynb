{
 "cells": [
  {
   "cell_type": "code",
   "execution_count": 4,
   "id": "2b441004",
   "metadata": {},
   "outputs": [],
   "source": [
    "from time import sleep\n",
    "from selenium import webdriver\n",
    "from selenium.webdriver.common.by import By\n",
    "from selenium.webdriver.support import expected_conditions as EC\n",
    "from selenium.webdriver.support.ui import WebDriverWait\n",
    "from pymongo import MongoClient"
   ]
  },
  {
   "cell_type": "code",
   "execution_count": 5,
   "id": "b39d3ba5",
   "metadata": {},
   "outputs": [],
   "source": [
    "client = MongoClient('localhost')\n",
    "db = client['olx']\n",
    "col = db['anuncios']"
   ]
  },
  {
   "cell_type": "code",
   "execution_count": 7,
   "id": "9b3dc8c0",
   "metadata": {},
   "outputs": [
    {
     "name": "stderr",
     "output_type": "stream",
     "text": [
      "C:\\Users\\ZETA\\AppData\\Local\\Temp\\ipykernel_10464\\521029300.py:6: DeprecationWarning: executable_path has been deprecated, please pass in a Service object\n",
      "  driver = webdriver.Chrome('./chromedriver.exe',options = options)\n"
     ]
    }
   ],
   "source": [
    "# Instancio el driver de selenium que va a controlar el navegador\n",
    "# A partir de este objeto voy a realizar el web scraping e interacciones\n",
    "\n",
    "options = webdriver.ChromeOptions()\n",
    "options.add_argument('--incognito')\n",
    "driver = webdriver.Chrome('./chromedriver.exe',options = options)"
   ]
  },
  {
   "cell_type": "code",
   "execution_count": 26,
   "id": "6d6869c1",
   "metadata": {},
   "outputs": [
    {
     "name": "stderr",
     "output_type": "stream",
     "text": [
      "C:\\Users\\ZETA\\AppData\\Local\\Temp\\ipykernel_10464\\4140027730.py:1: DeprecationWarning: executable_path has been deprecated, please pass in a Service object\n",
      "  driver = webdriver.Chrome('./chromedriver.exe',options = options)\n"
     ]
    }
   ],
   "source": [
    "driver = webdriver.Chrome('./chromedriver.exe',options = options)\n",
    "driver.get('https://www.olx.com.pe/items/q-autos')"
   ]
  },
  {
   "cell_type": "code",
   "execution_count": 27,
   "id": "16ef1e25",
   "metadata": {},
   "outputs": [],
   "source": [
    "for i in range(3): # Voy a darle click en cargar mas 3 veces\n",
    "    try:\n",
    "        # Esperamos a que el boton se encuentre disponible\n",
    "        boton = WebDriverWait(driver, 10).until(\n",
    "          EC.presence_of_element_located((By.XPATH, '//button[@data-aut-id=\"btnLoadMore\"]'))\n",
    "        )\n",
    "        # le doy click\n",
    "        boton.click()\n",
    "\n",
    "        # espero hasta 10 segundos a que la informacion\n",
    "        # en el ultimo elemento este cargada\n",
    "        WebDriverWait(driver, 10).until(\n",
    "          EC.presence_of_all_elements_located((By.XPATH, '//li[@data-aut-id=\"itemBox\"]//span[@data-aut-id=\"itemPrice\"]'))\n",
    "        )\n",
    "        # Luego de que se halla el elemento, seguimos la ejecucion\n",
    "    except Exception as e:\n",
    "        print (e)\n",
    "        # si hay algun error, rompo el lazo. No me complico.\n",
    "        break"
   ]
  },
  {
   "cell_type": "code",
   "execution_count": 28,
   "id": "505fe366",
   "metadata": {},
   "outputs": [],
   "source": [
    "driver.execute_script(\"window.scrollTo({top: 0, behavior: 'smooth'});\")\n",
    "sleep(5)\n",
    "driver.execute_script(\"window.scrollTo({top: 20000, behavior: 'smooth'});\")\n",
    "sleep(5)"
   ]
  },
  {
   "cell_type": "code",
   "execution_count": 29,
   "id": "a3d17626",
   "metadata": {},
   "outputs": [],
   "source": [
    "# Encuentro cual es el XPATH de cada elemento donde esta la informacion que quiero extraer\n",
    "# Esto es una LISTA. Por eso el metodo esta en plural\n",
    "autos = driver.find_elements(\"xpath\", '//li[@data-aut-id=\"itemBox\"]')  # se almacena una lista donde cada elemento es un auto\n"
   ]
  },
  {
   "cell_type": "code",
   "execution_count": 30,
   "id": "e8eaeb94",
   "metadata": {},
   "outputs": [],
   "source": [
    "# Recorro cada uno de los anuncios que he encontrado\n",
    "for auto in autos:\n",
    "    # Por cada anuncio hallo el precio, que en esta pagina principal, a veces suele no estar\n",
    "    try:\n",
    "      precio = auto.find_element(\"xpath\", './/span[@data-aut-id=\"itemPrice\"]').text\n",
    "      #print(precio)\n",
    "    except:\n",
    "      precio = 'NO DISPONIBLE'\n",
    "    \n",
    "    # Por cada anuncio hallo la descripcion\n",
    "    descripcion = auto.find_element(\"xpath\", './/span[@data-aut-id=\"itemTitle\"]').text\n",
    "    #print(descripcion)\n",
    "    col.insert_one({\n",
    "        'precio': precio,\n",
    "        'descripcion': descripcion\n",
    "    })"
   ]
  },
  {
   "cell_type": "code",
   "execution_count": null,
   "id": "fc47d5d2",
   "metadata": {},
   "outputs": [],
   "source": []
  }
 ],
 "metadata": {
  "kernelspec": {
   "display_name": "Python 3 (ipykernel)",
   "language": "python",
   "name": "python3"
  },
  "language_info": {
   "codemirror_mode": {
    "name": "ipython",
    "version": 3
   },
   "file_extension": ".py",
   "mimetype": "text/x-python",
   "name": "python",
   "nbconvert_exporter": "python",
   "pygments_lexer": "ipython3",
   "version": "3.9.12"
  }
 },
 "nbformat": 4,
 "nbformat_minor": 5
}
